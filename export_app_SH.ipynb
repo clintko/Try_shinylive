{
 "cells": [
  {
   "cell_type": "code",
   "execution_count": 1,
   "id": "e4997fb4-a001-4768-98f5-0a7e2f908544",
   "metadata": {},
   "outputs": [
    {
     "name": "stdout",
     "output_type": "stream",
     "text": [
      "export_app_SH.ipynb  \u001b[0m\u001b[01;34mmyapp\u001b[0m  README.md\n"
     ]
    }
   ],
   "source": [
    "ls"
   ]
  },
  {
   "cell_type": "code",
   "execution_count": 2,
   "id": "5cd7dfa1-cf32-46c3-aa6c-fc03b21c85a4",
   "metadata": {},
   "outputs": [],
   "source": [
    "quarto"
   ]
  },
  {
   "cell_type": "code",
   "execution_count": 4,
   "id": "04f7a42d-37e3-4e27-9d87-f7cd8f3189f8",
   "metadata": {},
   "outputs": [
    {
     "name": "stdout",
     "output_type": "stream",
     "text": [
      "\u001b[32m✔\u001b[39m Loading metadata database ... done\u001b[K\n",
      "\u001b[K\u001b[?25h\u001b[?25h\u001b[?25h0;190;190m 3 \u001b[49m\u001b[39m deps for \u001b[30m\u001b[48;2;190;190;190m 0/3 \u001b[49m\u001b[39m pkgs [⠹] Resolving standard (CRAN/BioC) packages\u001b[K\n"
     ]
    }
   ],
   "source": [
    "### container image\n",
    "IMG=\"/data/reddylab/Kuei/container/toolbox/singularity_rocker_verse_customized.sif\"\n",
    "\n",
    "### command name\n",
    "#CMD=\"quarto\"\n",
    "\n",
    "### command arguments\n",
    "#ARG=\"$@\"\n",
    "\n",
    "### execute\n",
    "singularity exec   \\\n",
    "    -B ${PWD}      \\\n",
    "    -B /data:/data \\\n",
    "    ${IMG} Rscript -e \"shinylive::export(appdir = 'myapp', destdir = 'docs')\""
   ]
  },
  {
   "cell_type": "code",
   "execution_count": null,
   "id": "7d7bf0a8-bdd7-4188-87ae-68de625ed6ae",
   "metadata": {},
   "outputs": [],
   "source": []
  }
 ],
 "metadata": {
  "kernelspec": {
   "display_name": "Bash",
   "language": "bash",
   "name": "bash"
  },
  "language_info": {
   "codemirror_mode": "shell",
   "file_extension": ".sh",
   "mimetype": "text/x-sh",
   "name": "bash"
  }
 },
 "nbformat": 4,
 "nbformat_minor": 5
}
